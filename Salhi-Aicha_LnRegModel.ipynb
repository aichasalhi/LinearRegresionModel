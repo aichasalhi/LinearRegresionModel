{
 "cells": [
  {
   "cell_type": "code",
   "execution_count": 10,
   "metadata": {},
   "outputs": [],
   "source": [
    "def Salhi_GradiantDescent(InputVec,OutputVec,Thita,learning_rate,nbrIterations):\n",
    "   \n",
    "    temp = np.matrix(np.zeros(Thita.shape))\n",
    "   # print(\"temp :\",temp)\n",
    "    parameters=int(Thita.ravel().shape[1])\n",
    "    #print(\"parameters :\",parameters)\n",
    "    cost=np.zeros(nbrIterations)\n",
    "    for i in range(nbrIterations):\n",
    "        error = Salhi_CalculeHypothese(Thita)\n",
    "        for j in range(parameters):\n",
    "            term=np.multiply(error, InputVec[:,j])\n",
    "            temp[0,j]= Thita[0,j] - ((learning_rate / len(InputVec)) * np.sum(term))\n",
    "       \n",
    "        Thita = temp\n",
    "        cost[i] = Salhi_Cost(InputVec,OutputVec,Thita)\n",
    "        \n",
    "    return Thita, cost[199]"
   ]
  },
  {
   "cell_type": "code",
   "execution_count": 11,
   "metadata": {},
   "outputs": [],
   "source": [
    "def Salhi_plotHypothese():\n",
    "    \n",
    "    X = np.array(InputVec)\n",
    "    Y = np.array(OutputVec)\n",
    "    fig, Ax= plt.subplots(figsize=(5,5))\n",
    "    Ax.plot(x, f, 'r', label='hypothese')\n",
    "    Ax.scatter(X[:,1:2],Y,label='Output')\n",
    "    Ax.legend(loc=2)\n",
    "    Ax.set_xlabel('x')\n",
    "    Ax.set_ylabel('Output=f(x)')\n",
    "    Ax.set_title('Hypothese function')"
   ]
  },
  {
   "cell_type": "code",
   "execution_count": 12,
   "metadata": {},
   "outputs": [],
   "source": [
    "def Salhi_Cost(InputVec, OutputVec, Thita):\n",
    "    C = np.power(((InputVec * Thita.T) - OutputVec), 2)\n",
    "   \n",
    "    return np.sum(C) / (2 * len(InputVec))\n"
   ]
  },
  {
   "cell_type": "code",
   "execution_count": 13,
   "metadata": {},
   "outputs": [],
   "source": [
    "def Salhi_CalculeHypothese(Thita):\n",
    "    h=(InputVec * Thita.T)- OutputVec\n",
    "    return h "
   ]
  },
  {
   "cell_type": "code",
   "execution_count": 14,
   "metadata": {},
   "outputs": [],
   "source": [
    "def Salhi_NormalEquation():\n",
    "    x = np.matrix(InputVec)\n",
    "    y = np.matrix(OutputVec)\n",
    "    Xtrans=x.T\n",
    "    X=Xtrans@x\n",
    "    inv=np.linalg.pinv(X)\n",
    "    Thita = (inv@Xtrans)@y\n",
    "    print(\"Thita from the Normal Equation is =\",Thita)\n",
    "    "
   ]
  },
  {
   "cell_type": "code",
   "execution_count": 16,
   "metadata": {},
   "outputs": [
    {
     "name": "stdout",
     "output_type": "stream",
     "text": [
      "_______Gradiant discent has finiched______\n",
      "final Thita is =  [[-2.13099066  1.00516712]]\n",
      "final cost=  3.854352119202995\n",
      "Thita from the Normal Equation is = [[-4.21150401]\n",
      " [ 1.21354725]]\n"
     ]
    },
    {
     "data": {
      "image/png": "[encoded data removed]",
      "text/plain": [
       "<Figure size 360x360 with 1 Axes>"
      ]
     },
     "metadata": {
      "needs_background": "light"
     },
     "output_type": "display_data"
    }
   ],
   "source": [
    "%matplotlib inline\n",
    "\n",
    "import matplotlib.pyplot as plt\n",
    "import pandas as pds\n",
    "import numpy as np\n",
    "\n",
    "#import functions.Salhi_GradiantDescent \n",
    "Input=pds.read_csv(\"Input.csv\")\n",
    "Input.insert(0, 'Ones', 1)\n",
    "InputVec=np.matrix(Input.values)\n",
    "Output=pds.read_csv(\"Output.csv\")\n",
    "OutputVec=np.matrix(Output.values)\n",
    "Thita=np.matrix(np.array([0,0]))\n",
    "learning_rate=0.02\n",
    "nbrIterations=200\n",
    "g,cost=Salhi_GradiantDescent(InputVec,OutputVec,Thita,learning_rate,nbrIterations)\n",
    "print(\"_______Gradiant discent has finiched______\")\n",
    "print(\"final Thita is = \", g)\n",
    "print(\"final cost= \", cost)\n",
    "x = np.linspace(InputVec.min(),InputVec.max(), 96)\n",
    "#print('x',x)\n",
    "f= g[0, 0] + (g[0, 1] * x)\n",
    "#print(\"f\",f)\n",
    "Salhi_plotHypothese()\n",
    "#Normal equation\n",
    "Salhi_NormalEquation()"
   ]
  },
  {
   "cell_type": "code",
   "execution_count": null,
   "metadata": {},
   "outputs": [],
   "source": [
    "Conclusion:\n",
    "    initial Thita = [0,0]\n",
    "    learning_rate =0.002\n",
    "    nombre of Iterations =200\n",
    "the 1st iteration :\n",
    "    the results:\n",
    "    final Thita is =  [[-0.22051     0.81381712]]\n",
    "    final cost=  4.912247052117755\n",
    "the 2 nd iteration :\n",
    "    the results:\n",
    "        learning_rate =0.01\n",
    "        final Thita is =  [[-1.22297969  0.91422252]]\n",
    "        final cost=  4.2741304129104565\n",
    "the 3 th iteration :\n",
    "    learning_rate =0.02\n",
    "    the results :\n",
    "    final Thita is =  [[-2.13099066  1.00516712]]\n",
    "    final cost=  3.854352119202995\n",
    "the 4 th iteration :\n",
    "    learning_rate =0.03\n",
    "    the results :\n",
    "    final Thita is =  [[-9.44067754e+32 -9.42578107e+33]]\n",
    "    final cost=  3.70982014408384e+69\n",
    "#************#\n",
    "the best learning rate 'alpha' value is 0.02 because in the 3 th iteration Thita evrage ."
   ]
  },
  {
   "cell_type": "code",
   "execution_count": null,
   "metadata": {},
   "outputs": [],
   "source": []
  }
 ],
 "metadata": {
  "kernelspec": {
   "display_name": "Python 3",
   "language": "python",
   "name": "python3"
  },
  "language_info": {
   "codemirror_mode": {
    "name": "ipython",
    "version": 3
   },
   "file_extension": ".py",
   "mimetype": "text/x-python",
   "name": "python",
   "nbconvert_exporter": "python",
   "pygments_lexer": "ipython3",
   "version": "3.8.5"
  }
 },
 "nbformat": 4,
 "nbformat_minor": 4
}
